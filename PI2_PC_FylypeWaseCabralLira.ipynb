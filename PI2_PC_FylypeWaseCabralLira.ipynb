{
 "cells": [
  {
   "cell_type": "code",
   "execution_count": 2,
   "metadata": {},
   "outputs": [],
   "source": [
    "from pyspark.sql import SparkSession\n",
    "from pyspark.sql import functions as f\n",
    "import matplotlib.pyplot as plt\n",
    "from tqdm import tqdm\n",
    "import datetime\n",
    "import gzip\n",
    "import json\n",
    "import sys\n",
    "import re\n",
    "\n",
    "%matplotlib inline"
   ]
  },
  {
   "cell_type": "markdown",
   "metadata": {},
   "source": [
    "### Parser sobre o arquivo de entrada ``amazon-meta.txt.gz`` para gerar um JSON com a estrutura do arquivo"
   ]
  },
  {
   "cell_type": "code",
   "execution_count": 2,
   "metadata": {},
   "outputs": [],
   "source": [
    "def get_line_number(file_path):\n",
    "    sys.stderr.write(\"Counting line number of {}\".format(file_path))\n",
    "    \n",
    "    with gzip.open(file_path, 'rb') as file:\n",
    "        for lines, l in enumerate(file):\n",
    "            pass\n",
    "        \n",
    "    return lines"
   ]
  },
  {
   "cell_type": "code",
   "execution_count": 3,
   "metadata": {},
   "outputs": [],
   "source": [
    "def parser(filename, total):\n",
    "    IGNORE_FIELDS = ['Total items', 'reviews']\n",
    "    f = gzip.open(filename, 'r')\n",
    "    entry = {}\n",
    "    categories = []\n",
    "    reviews = []\n",
    "    similar_items = []\n",
    "    \n",
    "    for line in tqdm(f, total=total):\n",
    "        line = line.decode(\"utf-8\").strip()\n",
    "        colonPos = line.find(':')\n",
    "        \n",
    "        if line.startswith(\"Id\"):\n",
    "            if reviews:\n",
    "                entry[\"reviews\"] = reviews\n",
    "            if categories:\n",
    "                entry[\"categories\"] = categories\n",
    "            \n",
    "            yield entry\n",
    "            entry = {}\n",
    "            categories = []\n",
    "            reviews = []\n",
    "            rest = line[colonPos+2:]\n",
    "            entry[\"id\"] = rest.strip()\n",
    "        \n",
    "        elif line.startswith(\"similar\"):\n",
    "            similar_items = line.split()[2:]\n",
    "            entry['similar_items'] = similar_items\n",
    "            \n",
    "        elif line.find(\"cutomer:\") != -1:\n",
    "            review_info = line.split()\n",
    "            reviews.append({'data': review_info[0],'customer_id': review_info[2],'rating': int(review_info[4]),'votes': int(review_info[6]),'helpful': int(review_info[8])})\n",
    "            \n",
    "        elif line.startswith(\"|\"):\n",
    "            categories.append(line)\n",
    "            \n",
    "        elif colonPos != -1:\n",
    "            eName = line[:colonPos]\n",
    "            rest = line[colonPos+2:]\n",
    "            \n",
    "            if not eName in IGNORE_FIELDS:\n",
    "                entry[eName] = rest.strip()\n",
    "                \n",
    "    if reviews:\n",
    "        entry[\"reviews\"] = reviews\n",
    "        \n",
    "    if categories:\n",
    "        entry[\"categories\"] = categories\n",
    "        \n",
    "    yield entry"
   ]
  },
  {
   "cell_type": "markdown",
   "metadata": {},
   "source": [
    "Definição do arquivo de entrada:"
   ]
  },
  {
   "cell_type": "code",
   "execution_count": 4,
   "metadata": {},
   "outputs": [],
   "source": [
    "path_file = 'data/amazon-meta.txt.gz'"
   ]
  },
  {
   "cell_type": "code",
   "execution_count": 5,
   "metadata": {},
   "outputs": [
    {
     "name": "stderr",
     "output_type": "stream",
     "text": [
      "Counting line number of data/amazon-meta.txt.gz"
     ]
    }
   ],
   "source": [
    "line_num = get_line_number(path_file)"
   ]
  },
  {
   "cell_type": "code",
   "execution_count": 6,
   "metadata": {
    "scrolled": true
   },
   "outputs": [
    {
     "name": "stderr",
     "output_type": "stream",
     "text": [
      "15010574it [01:56, 128421.27it/s]                              \n"
     ]
    }
   ],
   "source": [
    "with open('data/amazon-meta.json', 'w') as f:\n",
    "    for e in parser(path_file, total=line_num):\n",
    "        if e:\n",
    "            json.dump(e, f)\n",
    "            f.write('\\n')"
   ]
  },
  {
   "cell_type": "code",
   "execution_count": null,
   "metadata": {},
   "outputs": [],
   "source": []
  },
  {
   "cell_type": "markdown",
   "metadata": {},
   "source": [
    "### Usando SparkSQL propriamente dito"
   ]
  },
  {
   "cell_type": "code",
   "execution_count": 3,
   "metadata": {},
   "outputs": [],
   "source": [
    "spark = SparkSession.builder.appName('Parte C - Trabalho II').config('spark.some.config.option','some-value').getOrCreate()"
   ]
  },
  {
   "cell_type": "code",
   "execution_count": 4,
   "metadata": {},
   "outputs": [],
   "source": [
    "# Spark context\n",
    "sc = spark.sparkContext"
   ]
  },
  {
   "cell_type": "code",
   "execution_count": 5,
   "metadata": {},
   "outputs": [],
   "source": [
    "path_file = 'data/amazon-meta.json'"
   ]
  },
  {
   "cell_type": "code",
   "execution_count": 6,
   "metadata": {},
   "outputs": [],
   "source": [
    "amazon_df = spark.read.json(path_file)"
   ]
  },
  {
   "cell_type": "markdown",
   "metadata": {},
   "source": [
    "#### Esquema do Amazon-meta gerado pelo próprio SparkSQL"
   ]
  },
  {
   "cell_type": "code",
   "execution_count": 7,
   "metadata": {},
   "outputs": [
    {
     "name": "stdout",
     "output_type": "stream",
     "text": [
      "root\n",
      " |-- ASIN: string (nullable = true)\n",
      " |-- categories: string (nullable = true)\n",
      " |-- group: string (nullable = true)\n",
      " |-- id: string (nullable = true)\n",
      " |-- reviews: array (nullable = true)\n",
      " |    |-- element: struct (containsNull = true)\n",
      " |    |    |-- customer_id: string (nullable = true)\n",
      " |    |    |-- data: string (nullable = true)\n",
      " |    |    |-- helpful: long (nullable = true)\n",
      " |    |    |-- rating: long (nullable = true)\n",
      " |    |    |-- votes: long (nullable = true)\n",
      " |-- salesrank: string (nullable = true)\n",
      " |-- similar_items: array (nullable = true)\n",
      " |    |-- element: string (containsNull = true)\n",
      " |-- title: string (nullable = true)\n",
      "\n"
     ]
    }
   ],
   "source": [
    "amazon_df.printSchema()"
   ]
  },
  {
   "cell_type": "markdown",
   "metadata": {},
   "source": [
    "### Consultas usando DataFrames"
   ]
  },
  {
   "cell_type": "markdown",
   "metadata": {},
   "source": [
    "(a) Dado produto, listar os 5 comentários mais úteis e com maior avaliação e os 5 comentários mais úteis e com menor avaliação"
   ]
  },
  {
   "cell_type": "code",
   "execution_count": 38,
   "metadata": {},
   "outputs": [],
   "source": [
    "# id do produto\n",
    "id = 8"
   ]
  },
  {
   "cell_type": "code",
   "execution_count": 81,
   "metadata": {},
   "outputs": [],
   "source": [
    "df_tmp_1 = amazon_df.where('id=' + str(id)).select(f.explode_outer(f.col('reviews')).alias('reviews'))"
   ]
  },
  {
   "cell_type": "code",
   "execution_count": 86,
   "metadata": {},
   "outputs": [
    {
     "name": "stdout",
     "output_type": "stream",
     "text": [
      "+--------------+----------+-------+------+-----+\n",
      "|   customer_id|      data|helpful|rating|votes|\n",
      "+--------------+----------+-------+------+-----+\n",
      "| AL5D52NA8F67F|2000-11-19|     13|     5|   16|\n",
      "|A1OZQCZAK21S6M| 2000-11-1|     12|     5|   13|\n",
      "| AL5OEDM8TPTKV|2001-10-25|     10|     5|   10|\n",
      "|A2F1X6YFCJZ1FH|2000-10-31|      9|     5|   10|\n",
      "|A2WKESDGF2YC8S|2001-12-24|      8|     5|    8|\n",
      "+--------------+----------+-------+------+-----+\n",
      "only showing top 5 rows\n",
      "\n"
     ]
    }
   ],
   "source": [
    "df_tmp_1.select('reviews.*').sort('helpful','rating',ascending=False).show(5)"
   ]
  },
  {
   "cell_type": "code",
   "execution_count": null,
   "metadata": {},
   "outputs": [],
   "source": []
  },
  {
   "cell_type": "markdown",
   "metadata": {},
   "source": [
    "(b) Dado um produto, listar os produtos similares com maiores vendas do que ele"
   ]
  },
  {
   "cell_type": "code",
   "execution_count": 56,
   "metadata": {},
   "outputs": [],
   "source": [
    "# id do produto\n",
    "id = 8"
   ]
  },
  {
   "cell_type": "code",
   "execution_count": 57,
   "metadata": {},
   "outputs": [],
   "source": [
    "#similar = amazon_df.where('id=' + str(id)).select('similar_items').rdd.flatMap(lambda x: x).collect()[0]"
   ]
  },
  {
   "cell_type": "code",
   "execution_count": 58,
   "metadata": {},
   "outputs": [],
   "source": [
    "df_tmp = amazon_df.where('id=' + str(id)). \\\n",
    "select(amazon_df.salesrank.alias('salesrank_to_cmp'),f.explode(f.col('similar_items')).alias('ASIN'))"
   ]
  },
  {
   "cell_type": "code",
   "execution_count": 70,
   "metadata": {},
   "outputs": [
    {
     "name": "stdout",
     "output_type": "stream",
     "text": [
      "+------+\n",
      "|    id|\n",
      "+------+\n",
      "|453513|\n",
      "| 55461|\n",
      "|242156|\n",
      "+------+\n",
      "\n"
     ]
    }
   ],
   "source": [
    "df_tmp.join(amazon_df, df_tmp.ASIN == amazon_df.ASIN).where(df_tmp.salesrank_to_cmp > amazon_df.salesrank). \\\n",
    "select(['id']).show()"
   ]
  },
  {
   "cell_type": "code",
   "execution_count": null,
   "metadata": {},
   "outputs": [],
   "source": [
    "amazon_df.where('id=8')"
   ]
  },
  {
   "cell_type": "markdown",
   "metadata": {},
   "source": [
    "(c) Dado um produto, mostrar a evolução diária das médias de avaliação ao longo do intervalo de tempo coberto no arquivo de entrada"
   ]
  },
  {
   "cell_type": "code",
   "execution_count": 87,
   "metadata": {},
   "outputs": [],
   "source": [
    "# id do produto\n",
    "id = 8"
   ]
  },
  {
   "cell_type": "code",
   "execution_count": 88,
   "metadata": {},
   "outputs": [],
   "source": [
    "df_tmp_1 = amazon_df.where('id=' + str(id)).select(f.explode(f.col('reviews.data')).alias('reviews.data'))\n",
    "df_tmp_2 = amazon_df.where('id=' + str(id)).select(f.explode(f.col('reviews.rating')).alias('reviews.rating'))"
   ]
  },
  {
   "cell_type": "code",
   "execution_count": 89,
   "metadata": {},
   "outputs": [],
   "source": [
    "x = df_tmp_1.rdd.flatMap(lambda x: x).collect()\n",
    "y = df_tmp_2.rdd.flatMap(lambda x: x).collect()\n",
    "list_data_rating = [[pair[0], pair[1]] for pair in zip(x,y)]"
   ]
  },
  {
   "cell_type": "code",
   "execution_count": 90,
   "metadata": {},
   "outputs": [],
   "source": [
    "date_time_transf = [(list_data_rating[i][0].split('-')[0],list_data_rating[i][0].split('-')[1],list_data_rating[i][0].split('-')[2]) for i in range(len(list_data_rating))]\n",
    "date_time = sorted([datetime.datetime(int(i[0]),int(i[1]),int(i[2])) for i in date_time_transf])\n",
    "\n",
    "for i in range(len(list_data_rating)):\n",
    "    list_data_rating[i][0] = date_time[i]\n",
    "    \n",
    "x = [date_time[0] for date_time in list_data_rating]\n",
    "y = [date_time[1] for date_time in list_data_rating]"
   ]
  },
  {
   "cell_type": "code",
   "execution_count": 91,
   "metadata": {},
   "outputs": [
    {
     "data": {
      "image/png": "[encoded data removed]",
      "text/plain": [
       "<Figure size 1080x576 with 1 Axes>"
      ]
     },
     "metadata": {
      "needs_background": "light"
     },
     "output_type": "display_data"
    }
   ],
   "source": [
    "plt.figure(figsize=(15,8))\n",
    "plt.plot(x,y,'o--')\n",
    "plt.xlabel('Data',fontsize=15)\n",
    "plt.ylabel('Rating',fontsize=15)\n",
    "plt.show()\n",
    "\n",
    "#caso não tenha plotado nenhum ponto é porque o produto não tem review"
   ]
  },
  {
   "cell_type": "code",
   "execution_count": null,
   "metadata": {},
   "outputs": [],
   "source": []
  },
  {
   "cell_type": "markdown",
   "metadata": {},
   "source": [
    "(d) Listar os 10 produtos lideres de venda em cada grupo de produtos"
   ]
  },
  {
   "cell_type": "code",
   "execution_count": 75,
   "metadata": {},
   "outputs": [],
   "source": [
    "df_tmp_1 = amazon_df.filter('salesrank >= 0').withColumn('id_salesrank', f.struct(f.col('id'),f.col('salesrank'))). \\\n",
    "groupBy(amazon_df.group).agg(f.collect_list('id_salesrank').alias('id_salesrank'))"
   ]
  },
  {
   "cell_type": "code",
   "execution_count": 76,
   "metadata": {},
   "outputs": [],
   "source": [
    "df_tmp_2 = df_tmp_1.select(df_tmp_1.group,f.explode_outer(f.col('id_salesrank')).alias('id_salesrank')). \\\n",
    "select('group','id_salesrank.*').sort('salesrank')"
   ]
  },
  {
   "cell_type": "code",
   "execution_count": 77,
   "metadata": {},
   "outputs": [
    {
     "name": "stdout",
     "output_type": "stream",
     "text": [
      "+------------+--------------------+\n",
      "|       group|    collect_list(id)|\n",
      "+------------+--------------------+\n",
      "|       Video|[548526, 297444, ...|\n",
      "|         Toy|[272037, 465900, ...|\n",
      "|         DVD|[548547, 548548, ...|\n",
      "|      Sports|            [310467]|\n",
      "|Baby Product|            [197564]|\n",
      "| Video Games|             [51902]|\n",
      "|        Book|[548511, 548512, ...|\n",
      "|       Music|[548536, 548544, ...|\n",
      "|    Software|[456958, 527037, ...|\n",
      "|          CE|[224434, 253628, ...|\n",
      "+------------+--------------------+\n",
      "\n"
     ]
    }
   ],
   "source": [
    "#df_tmp_2.filter(~f.isnull('group')).sort('salesrank').filter('salesrank >= 0').show()\n",
    "df_tmp_2.groupBy('group').agg(f.collect_list('id')).show()"
   ]
  },
  {
   "cell_type": "code",
   "execution_count": null,
   "metadata": {},
   "outputs": [],
   "source": []
  },
  {
   "cell_type": "markdown",
   "metadata": {},
   "source": [
    "(e) Listar os 10 produtos com a maior média de avaliações úteis positivas por produto"
   ]
  },
  {
   "cell_type": "code",
   "execution_count": 75,
   "metadata": {},
   "outputs": [],
   "source": [
    "df_tmp_1 = amazon_df.select(amazon_df.id,f.explode_outer(f.col('reviews.helpful')).alias('reviews_helpful'))"
   ]
  },
  {
   "cell_type": "code",
   "execution_count": 81,
   "metadata": {},
   "outputs": [],
   "source": [
    "df_tmp_2 = df_tmp_1.withColumn('reviews_helpful', f.when(df_tmp_1.reviews_helpful.isNull(), 0). \\\n",
    "                               otherwise(df_tmp_1.reviews_helpful))"
   ]
  },
  {
   "cell_type": "code",
   "execution_count": 94,
   "metadata": {},
   "outputs": [
    {
     "name": "stdout",
     "output_type": "stream",
     "text": [
      "+------+--------------------+\n",
      "|    id|avg(reviews_helpful)|\n",
      "+------+--------------------+\n",
      "|380551|               243.0|\n",
      "|110544|               233.0|\n",
      "|523037|               203.0|\n",
      "|178270|               197.0|\n",
      "|250701|               196.0|\n",
      "|312621|  186.46511627906978|\n",
      "|411581|  186.34883720930233|\n",
      "|403662|  186.32558139534885|\n",
      "|357193|  186.30232558139534|\n",
      "| 69111|               183.0|\n",
      "+------+--------------------+\n",
      "only showing top 10 rows\n",
      "\n"
     ]
    }
   ],
   "source": [
    "df_tmp_2.groupBy('id').mean().orderBy('avg(reviews_helpful)',ascending=False).show(10)"
   ]
  },
  {
   "cell_type": "code",
   "execution_count": null,
   "metadata": {},
   "outputs": [],
   "source": []
  },
  {
   "cell_type": "code",
   "execution_count": null,
   "metadata": {},
   "outputs": [],
   "source": []
  },
  {
   "cell_type": "markdown",
   "metadata": {},
   "source": [
    "(f) Listar a 5 categorias de produto com a maior média de avaliações úteis positivas por produto"
   ]
  },
  {
   "cell_type": "code",
   "execution_count": 69,
   "metadata": {},
   "outputs": [],
   "source": [
    "df_tmp_1 = amazon_df.filter('reviews IS NOT NULL').select('group','reviews.helpful'). \\\n",
    "select('group', f.explode_outer('helpful').alias('helpful'))"
   ]
  },
  {
   "cell_type": "code",
   "execution_count": 74,
   "metadata": {},
   "outputs": [
    {
     "name": "stdout",
     "output_type": "stream",
     "text": [
      "+------------+------------------+\n",
      "|       group|      avg(helpful)|\n",
      "+------------+------------------+\n",
      "|Baby Product|29.333333333333332|\n",
      "|      Sports|              27.2|\n",
      "|         Toy|21.972972972972972|\n",
      "|    Software| 17.46153846153846|\n",
      "| Video Games|15.333333333333334|\n",
      "+------------+------------------+\n",
      "only showing top 5 rows\n",
      "\n"
     ]
    }
   ],
   "source": [
    "df_tmp_1.groupBy('group').mean().orderBy('avg(helpful)',ascending=False).show(5)"
   ]
  },
  {
   "cell_type": "code",
   "execution_count": null,
   "metadata": {},
   "outputs": [],
   "source": []
  },
  {
   "cell_type": "code",
   "execution_count": null,
   "metadata": {},
   "outputs": [],
   "source": []
  },
  {
   "cell_type": "markdown",
   "metadata": {},
   "source": [
    "(g) Listar os 10 clientes que mais fizeram comentários por grupo de produto"
   ]
  },
  {
   "cell_type": "code",
   "execution_count": 12,
   "metadata": {},
   "outputs": [],
   "source": [
    "df_tmp_1 = amazon_df.filter('group IS NOT NULL'). \\\n",
    "select(amazon_df.group,f.explode_outer(f.col('reviews.customer_id')).alias('customer_id'))"
   ]
  },
  {
   "cell_type": "code",
   "execution_count": 23,
   "metadata": {},
   "outputs": [],
   "source": [
    "df_tmp_2 = df_tmp_1.groupBy('group','customer_id').agg(f.count('customer_id')). \\\n",
    "sort('count(customer_id)',ascending=False).filter('customer_id IS NOT NULL')"
   ]
  },
  {
   "cell_type": "code",
   "execution_count": 25,
   "metadata": {},
   "outputs": [
    {
     "name": "stdout",
     "output_type": "stream",
     "text": [
      "+------------+-------------------------+\n",
      "|       group|collect_list(customer_id)|\n",
      "+------------+-------------------------+\n",
      "|       Video|     [ATVPDKIKX0DER, A...|\n",
      "|         Toy|     [AH4M07U4YC695, A...|\n",
      "|         DVD|     [ATVPDKIKX0DER, A...|\n",
      "|      Sports|     [A2RHSQZ7MAKKCO, ...|\n",
      "|Baby Product|     [A37TFIP0OMKGMW, ...|\n",
      "| Video Games|     [A3C811U31YG6FS, ...|\n",
      "|        Book|     [ATVPDKIKX0DER, A...|\n",
      "|       Music|     [ATVPDKIKX0DER, A...|\n",
      "|    Software|     [AK9MWTH6LJF64, A...|\n",
      "|          CE|     [A1SFX3CR838F36, ...|\n",
      "+------------+-------------------------+\n",
      "\n"
     ]
    }
   ],
   "source": [
    "df_tmp_2.groupBy('group').agg(f.collect_list('customer_id')).show()"
   ]
  },
  {
   "cell_type": "code",
   "execution_count": null,
   "metadata": {},
   "outputs": [],
   "source": []
  },
  {
   "cell_type": "code",
   "execution_count": null,
   "metadata": {},
   "outputs": [],
   "source": []
  },
  {
   "cell_type": "code",
   "execution_count": null,
   "metadata": {},
   "outputs": [],
   "source": []
  },
  {
   "cell_type": "markdown",
   "metadata": {},
   "source": [
    "### Consultas sobre view temporária"
   ]
  },
  {
   "cell_type": "code",
   "execution_count": 161,
   "metadata": {},
   "outputs": [],
   "source": [
    "amazon_df.createOrReplaceTempView('amazon')"
   ]
  },
  {
   "cell_type": "markdown",
   "metadata": {},
   "source": [
    "(a) Dado produto, listar os 5 comentários mais úteis e com maior avaliação e os 5 comentários mais úteis e com menor avaliação"
   ]
  },
  {
   "cell_type": "code",
   "execution_count": 112,
   "metadata": {},
   "outputs": [],
   "source": [
    "# id do produto\n",
    "id = 8"
   ]
  },
  {
   "cell_type": "code",
   "execution_count": 117,
   "metadata": {},
   "outputs": [],
   "source": [
    "df_temp_1 = amazon_df.filter('id = ' + str(id)).select('id',f.explode(amazon_df.reviews).alias('reviews')).select('reviews.*',\"id\")"
   ]
  },
  {
   "cell_type": "code",
   "execution_count": 118,
   "metadata": {},
   "outputs": [],
   "source": [
    "df_temp_1.createOrReplaceTempView('amazon_a')"
   ]
  },
  {
   "cell_type": "code",
   "execution_count": 121,
   "metadata": {},
   "outputs": [],
   "source": [
    "sql = '(SELECT * FROM amazon_a WHERE id=' + str(id) + ' ORDER BY helpful DESC, rating DESC LIMIT 5) UNION ALL (SELECT * FROM amazon_a WHERE id=' + str(2) + ' ORDER BY helpful DESC, rating ASC LIMIT 5)'"
   ]
  },
  {
   "cell_type": "code",
   "execution_count": 122,
   "metadata": {},
   "outputs": [
    {
     "name": "stdout",
     "output_type": "stream",
     "text": [
      "+--------------+----------+-------+------+-----+---+\n",
      "|   customer_id|      data|helpful|rating|votes| id|\n",
      "+--------------+----------+-------+------+-----+---+\n",
      "| AL5D52NA8F67F|2000-11-19|     13|     5|   16|  8|\n",
      "|A1OZQCZAK21S6M| 2000-11-1|     12|     5|   13|  8|\n",
      "| AL5OEDM8TPTKV|2001-10-25|     10|     5|   10|  8|\n",
      "|A2F1X6YFCJZ1FH|2000-10-31|      9|     5|   10|  8|\n",
      "|A2WKESDGF2YC8S|2001-12-24|      8|     5|    8|  8|\n",
      "+--------------+----------+-------+------+-----+---+\n",
      "\n"
     ]
    }
   ],
   "source": [
    "spark.sql(sql).show()"
   ]
  },
  {
   "cell_type": "code",
   "execution_count": null,
   "metadata": {},
   "outputs": [],
   "source": []
  },
  {
   "cell_type": "markdown",
   "metadata": {},
   "source": [
    "(b) Dado um produto, listar os produtos similares com maiores vendas do que ele"
   ]
  },
  {
   "cell_type": "code",
   "execution_count": 100,
   "metadata": {},
   "outputs": [],
   "source": [
    "# id do produto\n",
    "id = 8"
   ]
  },
  {
   "cell_type": "code",
   "execution_count": 124,
   "metadata": {},
   "outputs": [],
   "source": [
    "#sql = ''"
   ]
  },
  {
   "cell_type": "code",
   "execution_count": 125,
   "metadata": {},
   "outputs": [],
   "source": [
    "#spark.sql(sql).show()"
   ]
  },
  {
   "cell_type": "code",
   "execution_count": null,
   "metadata": {},
   "outputs": [],
   "source": []
  },
  {
   "cell_type": "code",
   "execution_count": null,
   "metadata": {},
   "outputs": [],
   "source": []
  },
  {
   "cell_type": "code",
   "execution_count": null,
   "metadata": {},
   "outputs": [],
   "source": []
  },
  {
   "cell_type": "markdown",
   "metadata": {},
   "source": [
    "(c) Dado um produto, mostrar a evolução diária das médias de avaliação ao longo do intervalo de tempo coberto no arquivo de entrada"
   ]
  },
  {
   "cell_type": "code",
   "execution_count": 103,
   "metadata": {},
   "outputs": [],
   "source": [
    "# id do produto\n",
    "id = 8"
   ]
  },
  {
   "cell_type": "code",
   "execution_count": 159,
   "metadata": {},
   "outputs": [],
   "source": [
    "sql = '(SELECT EXPLODE(reviews.data) FROM amazon WHERE id=' + str(id) + ') UNION (SELECT EXPLODE(reviews.rating) FROM amazon WHERE id=' + str(id) + ')'"
   ]
  },
  {
   "cell_type": "code",
   "execution_count": 160,
   "metadata": {},
   "outputs": [
    {
     "name": "stdout",
     "output_type": "stream",
     "text": [
      "+----------+\n",
      "|       col|\n",
      "+----------+\n",
      "|2000-10-31|\n",
      "|  2003-9-3|\n",
      "| 2001-11-3|\n",
      "|2001-10-25|\n",
      "|  2001-7-1|\n",
      "|2000-11-19|\n",
      "|         5|\n",
      "| 2000-11-1|\n",
      "|2001-12-31|\n",
      "|2001-12-24|\n",
      "| 2001-8-25|\n",
      "|         1|\n",
      "| 2002-9-23|\n",
      "| 2001-5-10|\n",
      "| 2001-9-13|\n",
      "|         4|\n",
      "|  2002-4-9|\n",
      "| 2001-4-16|\n",
      "|         2|\n",
      "+----------+\n",
      "\n"
     ]
    }
   ],
   "source": [
    "spark.sql(sql).show()"
   ]
  },
  {
   "cell_type": "code",
   "execution_count": null,
   "metadata": {},
   "outputs": [],
   "source": []
  },
  {
   "cell_type": "markdown",
   "metadata": {},
   "source": [
    "(d) Listar os 10 produtos lideres de venda em cada grupo de produtos"
   ]
  },
  {
   "cell_type": "code",
   "execution_count": 130,
   "metadata": {},
   "outputs": [],
   "source": [
    "#sql = ''"
   ]
  },
  {
   "cell_type": "code",
   "execution_count": 132,
   "metadata": {},
   "outputs": [],
   "source": [
    "#spark.sql(sql).show()"
   ]
  },
  {
   "cell_type": "code",
   "execution_count": null,
   "metadata": {},
   "outputs": [],
   "source": []
  },
  {
   "cell_type": "markdown",
   "metadata": {},
   "source": [
    "(e) Listar os 10 produtos com a maior média de avaliações úteis positivas por produto"
   ]
  },
  {
   "cell_type": "code",
   "execution_count": 93,
   "metadata": {},
   "outputs": [],
   "source": [
    "df_temp_1 = amazon_df.select('id',f.explode('reviews.helpful').alias('helpful'))"
   ]
  },
  {
   "cell_type": "code",
   "execution_count": 94,
   "metadata": {},
   "outputs": [],
   "source": [
    "df_temp_1.createOrReplaceTempView('amazon_e')"
   ]
  },
  {
   "cell_type": "code",
   "execution_count": 99,
   "metadata": {},
   "outputs": [],
   "source": [
    "sql = 'SELECT id, avg(helpful) FROM amazon_e GROUP BY id ORDER BY avg(helpful) DESC LIMIT 10'"
   ]
  },
  {
   "cell_type": "code",
   "execution_count": 100,
   "metadata": {},
   "outputs": [
    {
     "name": "stdout",
     "output_type": "stream",
     "text": [
      "+------+------------------+\n",
      "|    id|      avg(helpful)|\n",
      "+------+------------------+\n",
      "|380551|             243.0|\n",
      "|110544|             233.0|\n",
      "|523037|             203.0|\n",
      "|178270|             197.0|\n",
      "|250701|             196.0|\n",
      "|312621|186.46511627906978|\n",
      "|411581|186.34883720930233|\n",
      "|403662|186.32558139534885|\n",
      "|357193|186.30232558139534|\n",
      "| 69111|             183.0|\n",
      "+------+------------------+\n",
      "\n"
     ]
    }
   ],
   "source": [
    "spark.sql(sql).show()"
   ]
  },
  {
   "cell_type": "code",
   "execution_count": null,
   "metadata": {},
   "outputs": [],
   "source": []
  },
  {
   "cell_type": "code",
   "execution_count": null,
   "metadata": {},
   "outputs": [],
   "source": []
  },
  {
   "cell_type": "markdown",
   "metadata": {},
   "source": [
    "(f) Listar a 5 categorias de produto com a maior média de avaliações úteis positivas por produto"
   ]
  },
  {
   "cell_type": "code",
   "execution_count": 108,
   "metadata": {},
   "outputs": [],
   "source": [
    "df_temp_1 = amazon_df.select('group',f.explode('reviews.helpful').alias('helpful'))"
   ]
  },
  {
   "cell_type": "code",
   "execution_count": 109,
   "metadata": {},
   "outputs": [],
   "source": [
    "df_temp_1.createOrReplaceTempView('amazon_f')"
   ]
  },
  {
   "cell_type": "code",
   "execution_count": 110,
   "metadata": {},
   "outputs": [],
   "source": [
    "sql = 'SELECT group, avg(helpful) FROM amazon_f GROUP BY group ORDER BY avg(helpful) DESC LIMIT 5'"
   ]
  },
  {
   "cell_type": "code",
   "execution_count": 111,
   "metadata": {},
   "outputs": [
    {
     "name": "stdout",
     "output_type": "stream",
     "text": [
      "+------------+------------------+\n",
      "|       group|      avg(helpful)|\n",
      "+------------+------------------+\n",
      "|Baby Product|29.333333333333332|\n",
      "|      Sports|              27.2|\n",
      "|         Toy|21.972972972972972|\n",
      "|    Software| 17.46153846153846|\n",
      "| Video Games|15.333333333333334|\n",
      "+------------+------------------+\n",
      "\n"
     ]
    }
   ],
   "source": [
    "spark.sql(sql).show()"
   ]
  },
  {
   "cell_type": "code",
   "execution_count": null,
   "metadata": {},
   "outputs": [],
   "source": []
  },
  {
   "cell_type": "code",
   "execution_count": null,
   "metadata": {},
   "outputs": [],
   "source": []
  },
  {
   "cell_type": "markdown",
   "metadata": {},
   "source": [
    "(g) Listar os 10 clientes que mais fizeram comentários por grupo de produto"
   ]
  },
  {
   "cell_type": "code",
   "execution_count": 133,
   "metadata": {},
   "outputs": [],
   "source": [
    "sql = 'SELECT group, count(*) as count FROM amazon WHERE group IS NOT NULL GROUP BY group ORDER BY count(*) DESC'"
   ]
  },
  {
   "cell_type": "code",
   "execution_count": 134,
   "metadata": {},
   "outputs": [
    {
     "name": "stdout",
     "output_type": "stream",
     "text": [
      "+------------+------+\n",
      "|       group| count|\n",
      "+------------+------+\n",
      "|        Book|393561|\n",
      "|       Music|103144|\n",
      "|       Video| 26131|\n",
      "|         DVD| 19828|\n",
      "|         Toy|     8|\n",
      "|    Software|     5|\n",
      "|          CE|     4|\n",
      "|Baby Product|     1|\n",
      "|      Sports|     1|\n",
      "| Video Games|     1|\n",
      "+------------+------+\n",
      "\n"
     ]
    }
   ],
   "source": [
    "spark.sql(sql).show()"
   ]
  },
  {
   "cell_type": "code",
   "execution_count": null,
   "metadata": {},
   "outputs": [],
   "source": []
  }
 ],
 "metadata": {
  "kernelspec": {
   "display_name": "Python 3",
   "language": "python",
   "name": "python3"
  },
  "language_info": {
   "codemirror_mode": {
    "name": "ipython",
    "version": 3
   },
   "file_extension": ".py",
   "mimetype": "text/x-python",
   "name": "python",
   "nbconvert_exporter": "python",
   "pygments_lexer": "ipython3",
   "version": "3.7.4"
  }
 },
 "nbformat": 4,
 "nbformat_minor": 2
}
